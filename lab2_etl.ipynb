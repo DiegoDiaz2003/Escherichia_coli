{
 "cells": [
  {
   "cell_type": "code",
   "execution_count": 11,
   "metadata": {},
   "outputs": [],
   "source": [
    "import pandas as pd\n",
    "import numpy as np\n",
    "import requests\n",
    "import shutil\n",
    "import tempfile\n",
    "import zipfile\n",
    "from pathlib import Path\n",
    "from typing import Dict"
   ]
  },
  {
   "cell_type": "code",
   "execution_count": 12,
   "metadata": {},
   "outputs": [],
   "source": [
    "def extract(url:str)->Path:\n",
    "    \"\"\"Obtener la data desde el origen. La data está comprimida. El resultado queda\n",
    "    alojado en un directorio temporal\n",
    "\n",
    "    Parameters\n",
    "    ----------\n",
    "    url : str\n",
    "        La URI del dataset.\n",
    "    \n",
    "    Returns\n",
    "    -------\n",
    "    Path\n",
    "        La ruta del directorio temporal donde los datos son almacenados.\n",
    "    \"\"\"\n",
    "    tmp_folder = Path(tempfile.mkdtemp())\n",
    "    print (tmp_folder,\"este es el folder temporal que se crea\")\n",
    "    local_filename = tmp_folder / url.split('/')[-1]\n",
    "    # download file\n",
    "    with requests.get(url, stream=True) as r:\n",
    "        with open(local_filename, 'wb') as f:\n",
    "            shutil.copyfileobj(r.raw, f)\n",
    "    # data.zip -> temp_file\n",
    "    # unzip\n",
    "    # TODO Descomente esta parte si es necesario descomprimir\n",
    "    #with zipfile.ZipFile(local_filename,\"r\") as zip_ref:\n",
    "    #    zip_ref.extractall(tmp_folder)\n",
    "    return tmp_folder\n",
    "\n",
    "def transform(folder: Path)->Dict:\n",
    "    print(folder)\n",
    "    \"\"\" Transformar el dataset para que sea leible fácilmente dentro del sandbox.\n",
    "\n",
    "    Parameters\n",
    "    ----------\n",
    "    folder : Path\n",
    "        La ruta del directorion donde los datos fueron almacenados\n",
    "    \n",
    "    Returns\n",
    "    -------\n",
    "    Dict\n",
    "        Datos transformados\n",
    "    \"\"\"\n",
    "    # leer datos y transformarlo a una tabla\n",
    "    \n",
    "    file_=folder /\"ecoli.data\"\n",
    "    df = pd.read_csv(file_,delimiter=\"\\t\")\n",
    "    return df\n",
    "\n",
    "def load(df:pd.DataFrame, output_file:Path):\n",
    "    \"\"\"Cargar la información dentro del Sandbox\n",
    "\n",
    "    Parameters\n",
    "    ----------\n",
    "    df : DataFrame\n",
    "        Los datos transformados\n",
    "    output_file : Path\n",
    "        Archivo de salida.\n",
    "    \"\"\"\n",
    "    #Guardar como CSV\n",
    "    df.to_csv(output_file,index=False)\n",
    "    #TODO"
   ]
  },
  {
   "cell_type": "code",
   "execution_count": 13,
   "metadata": {},
   "outputs": [
    {
     "name": "stdout",
     "output_type": "stream",
     "text": [
      "C:\\Users\\ASUS\\AppData\\Local\\Temp\\tmprm_bb1ti este es el folder temporal que se crea\n",
      "C:\\Users\\ASUS\\AppData\\Local\\Temp\\tmprm_bb1ti\n"
     ]
    }
   ],
   "source": [
    "url=\"https://archive.ics.uci.edu/ml/machine-learning-databases/ecoli/ecoli.data\"\n",
    "#extract(url)\n",
    "#transform(extract(url))\n",
    "load(transform(extract(url)),\"ecoliData.csv\")"
   ]
  }
 ],
 "metadata": {
  "kernelspec": {
   "display_name": "Python 3.10.4 64-bit ('data-mining')",
   "language": "python",
   "name": "python3"
  },
  "language_info": {
   "codemirror_mode": {
    "name": "ipython",
    "version": 3
   },
   "file_extension": ".py",
   "mimetype": "text/x-python",
   "name": "python",
   "nbconvert_exporter": "python",
   "pygments_lexer": "ipython3",
   "version": "3.11.1"
  },
  "orig_nbformat": 4,
  "vscode": {
   "interpreter": {
    "hash": "0fd559c25dbbe343222a8ac4e264da6e094b914923e1f249609a64941e80491c"
   }
  }
 },
 "nbformat": 4,
 "nbformat_minor": 2
}
