{
  "cells": [
    {
      "cell_type": "code",
      "execution_count": 1,
      "metadata": {
        "id": "SECqmF2gYwfp"
      },
      "outputs": [],
      "source": [
        "import pandas as pd\n",
        "import numpy as np\n",
        "import requests\n",
        "import shutil\n",
        "import tempfile\n",
        "import zipfile\n",
        "from pathlib import Path\n",
        "from typing import Dict, List\n",
        "\n",
        "from sklearn import preprocessing\n",
        "from sklearn import utils\n",
        "\n",
        "from sklearn.model_selection import GridSearchCV, KFold, train_test_split, ShuffleSplit\n",
        "from sklearn.metrics import classification_report\n",
        "from sklearn.preprocessing import StandardScaler #Para estandarizar los datos\n",
        "\n",
        "from sklearn.tree import DecisionTreeClassifier # árbol de decisión\n",
        "from sklearn.naive_bayes import GaussianNB # bayes\n",
        "from sklearn.neural_network import MLPClassifier #import para la red neuronal\n",
        "from sklearn.svm import SVC #import para svm\n",
        "\n",
        "#TODO\n",
        "#Agruegue más \"import\" de ser necesario"
      ]
    },
    {
      "cell_type": "code",
      "execution_count": 24,
      "metadata": {
        "id": "-F8l6aU7Ywfq"
      },
      "outputs": [],
      "source": [
        "def extract(url: str) -> Path:\n",
        "    \"\"\"Obtener la data desde el origen. La data está comprimida. El resultado queda\n",
        "    alojado en un directorio temporal\n",
        "\n",
        "    Parameters\n",
        "    ----------\n",
        "    url : str\n",
        "        La URI del dataset.\n",
        "\n",
        "    Returns\n",
        "    -------\n",
        "    Path\n",
        "        La ruta del directorio temporal donde los datos son almacenados.\n",
        "    \"\"\"\n",
        "    tmp_folder = Path(tempfile.mkdtemp())\n",
        "    print(tmp_folder, \"este es el folder temporal que se crea\")\n",
        "    local_filename = tmp_folder / url.split('/')[-1]\n",
        "    # download file\n",
        "    with requests.get(url, stream=True) as r:\n",
        "        with open(local_filename, 'wb') as f:\n",
        "            shutil.copyfileobj(r.raw, f)\n",
        "   # data.zip -> temp_file\n",
        "   # unzip\n",
        "    # TODO Descomente esta parte si es necesario descomprimir\n",
        "    with zipfile.ZipFile(local_filename, \"r\") as zip_ref:\n",
        "        zip_ref.extractall(tmp_folder)\n",
        "    return tmp_folder\n",
        "\n",
        "def transform(folder: Path)->Dict:\n",
        "    \"\"\" Transformar el dataset para que sea leible fácilmente dentro del sandbox.\n",
        "\n",
        "    Parameters\n",
        "    ----------\n",
        "    folder : Path\n",
        "        La ruta del directorion donde los datos fueron almacenados\n",
        "\n",
        "    Returns\n",
        "    -------\n",
        "    Dict\n",
        "        Datos transformados\n",
        "    \"\"\"\n",
        "    # leer datos y transformar imagenes a vectores\n",
        "    #TODO: Modificar según sea su dataset \n",
        "    #                   \n",
        "    input_file = \"./datalab2.csv\" \n",
        "    columns = [  #'sequence Name',\n",
        "        'mcg',\n",
        "        'gvh',\n",
        "        'lip',\n",
        "        'chg',\n",
        "        'aac',\n",
        "        'alm1',\n",
        "        'alm2',\n",
        "        'class distribution'\n",
        "    ]\n",
        "    class_names = [\n",
        "        'cp',\n",
        "        'im',\n",
        "        'imS',\n",
        "        'imL',\n",
        "        'imU',\n",
        "        'omL',\n",
        "        'om',\n",
        "        'pp',     \n",
        "    ]\n",
        "\n",
        "    df = pd.read_csv(input_file,delimiter=\";\",)\n",
        "    print(df)\n",
        "    return df, columns, class_names\n",
        "\n",
        "def classify(X:pd.DataFrame, y:pd.DataFrame, class_names:List[str], estimator):\n",
        "    print(\"estos son los valores que entran : x,y,class_names,stimador \",X,y,class_names)\n",
        "    X_train, X_test, y_train, y_test = train_test_split(X, y, test_size=0.3, random_state=0)\n",
        "\n",
        "    grid = GridSearchCV(\n",
        "        estimator=estimator,\n",
        "        param_grid={},\n",
        "        n_jobs=-1,\n",
        "        verbose=2,\n",
        "        cv=KFold(\n",
        "            n_splits=5, shuffle=True, random_state=10\n",
        "        ),\n",
        "    )\n",
        "    print (\"valores de xtrain y y : \",X_train,y_train)\n",
        "    grid.fit(X_train, y=y_train)\n",
        "\n",
        "    y_pred = grid.best_estimator_.predict(X_test)\n",
        "\n",
        "    print(\n",
        "        classification_report(\n",
        "            y_test,\n",
        "            y_pred,\n",
        "            target_names=class_names,\n",
        "            zero_division=0,\n",
        "        )\n",
        "    )"
      ]
    },
    {
      "cell_type": "code",
      "execution_count": 16,
      "metadata": {
        "id": "kVY0it2JYwfr"
      },
      "outputs": [
        {
          "name": "stdout",
          "output_type": "stream",
          "text": [
            "/tmp/tmp4f4f_xoe este es el folder temporal que se crea\n"
          ]
        }
      ],
      "source": [
        "#TODO:Modificar la url\n",
        "folder = extract(\"https://archive.ics.uci.edu/static/public/39/ecoli.zip\")\n"
      ]
    },
    {
      "cell_type": "code",
      "execution_count": 25,
      "metadata": {
        "id": "Pj0l6WQGYwfr"
      },
      "outputs": [
        {
          "name": "stdout",
          "output_type": "stream",
          "text": [
            "    sequence Name   mcg   gvh   lip  chg   aac  alm1  alm2 class distribution\n",
            "0       AAT_ECOLI  0.49  0.29  0.48  0.5  0.56  0.24  0.35                 cp\n",
            "1      ACEA_ECOLI  0.07  0.40  0.48  0.5  0.54  0.35  0.44                 cp\n",
            "2      ACEK_ECOLI  0.56  0.40  0.48  0.5  0.49  0.37  0.46                 cp\n",
            "3      ACKA_ECOLI  0.59  0.49  0.48  0.5  0.52  0.45  0.36                 cp\n",
            "4       ADI_ECOLI  0.23  0.32  0.48  0.5  0.55  0.25  0.35                 cp\n",
            "..            ...   ...   ...   ...  ...   ...   ...   ...                ...\n",
            "331    TREA_ECOLI  0.74  0.56  0.48  0.5  0.47  0.68  0.30                 pp\n",
            "332    UGPB_ECOLI  0.71  0.57  0.48  0.5  0.48  0.35  0.32                 pp\n",
            "333    USHA_ECOLI  0.61  0.60  0.48  0.5  0.44  0.39  0.38                 pp\n",
            "334    XYLF_ECOLI  0.59  0.61  0.48  0.5  0.42  0.42  0.37                 pp\n",
            "335    YTFQ_ECOLI  0.74  0.74  0.48  0.5  0.31  0.53  0.52                 pp\n",
            "\n",
            "[336 rows x 9 columns]\n"
          ]
        }
      ],
      "source": [
        "df, columns, class_names = transform(folder)"
      ]
    },
    {
      "cell_type": "code",
      "execution_count": 26,
      "metadata": {
        "id": "ufMY-hSDYwfs"
      },
      "outputs": [
        {
          "name": "stdout",
          "output_type": "stream",
          "text": [
            "      mcg   gvh   lip  chg   aac  alm1  alm2\n",
            "0    0.49  0.29  0.48  0.5  0.56  0.24  0.35\n",
            "1    0.07  0.40  0.48  0.5  0.54  0.35  0.44\n",
            "2    0.56  0.40  0.48  0.5  0.49  0.37  0.46\n",
            "3    0.59  0.49  0.48  0.5  0.52  0.45  0.36\n",
            "4    0.23  0.32  0.48  0.5  0.55  0.25  0.35\n",
            "..    ...   ...   ...  ...   ...   ...   ...\n",
            "331  0.74  0.56  0.48  0.5  0.47  0.68  0.30\n",
            "332  0.71  0.57  0.48  0.5  0.48  0.35  0.32\n",
            "333  0.61  0.60  0.48  0.5  0.44  0.39  0.38\n",
            "334  0.59  0.61  0.48  0.5  0.42  0.42  0.37\n",
            "335  0.74  0.74  0.48  0.5  0.31  0.53  0.52\n",
            "\n",
            "[336 rows x 7 columns]\n",
            "0      cp\n",
            "1      cp\n",
            "2      cp\n",
            "3      cp\n",
            "4      cp\n",
            "       ..\n",
            "331    pp\n",
            "332    pp\n",
            "333    pp\n",
            "334    pp\n",
            "335    pp\n",
            "Name: class distribution, Length: 336, dtype: object\n",
            "valores de x, y antes de classify        mcg   gvh   lip  chg   aac  alm1  alm2\n",
            "0    0.49  0.29  0.48  0.5  0.56  0.24  0.35\n",
            "1    0.07  0.40  0.48  0.5  0.54  0.35  0.44\n",
            "2    0.56  0.40  0.48  0.5  0.49  0.37  0.46\n",
            "3    0.59  0.49  0.48  0.5  0.52  0.45  0.36\n",
            "4    0.23  0.32  0.48  0.5  0.55  0.25  0.35\n",
            "..    ...   ...   ...  ...   ...   ...   ...\n",
            "331  0.74  0.56  0.48  0.5  0.47  0.68  0.30\n",
            "332  0.71  0.57  0.48  0.5  0.48  0.35  0.32\n",
            "333  0.61  0.60  0.48  0.5  0.44  0.39  0.38\n",
            "334  0.59  0.61  0.48  0.5  0.42  0.42  0.37\n",
            "335  0.74  0.74  0.48  0.5  0.31  0.53  0.52\n",
            "\n",
            "[336 rows x 7 columns] 0      cp\n",
            "1      cp\n",
            "2      cp\n",
            "3      cp\n",
            "4      cp\n",
            "       ..\n",
            "331    pp\n",
            "332    pp\n",
            "333    pp\n",
            "334    pp\n",
            "335    pp\n",
            "Name: class distribution, Length: 336, dtype: object\n"
          ]
        }
      ],
      "source": [
        "X = df[columns[:-1]]\n",
        "print(X)\n",
        "y = df[columns[-1]]\n",
        "print(y)\n",
        "print(\"valores de x, y antes de classify \",X,y)"
      ]
    },
    {
      "cell_type": "code",
      "execution_count": 27,
      "metadata": {
        "colab": {
          "base_uri": "https://localhost:8080/"
        },
        "id": "lt-QQbmWYwfs",
        "outputId": "6dd5009f-eac5-4340-b4e1-4aa525e19f6e"
      },
      "outputs": [
        {
          "name": "stdout",
          "output_type": "stream",
          "text": [
            "estos son los valores que entran : x,y,class_names,stimador        mcg   gvh   lip  chg   aac  alm1  alm2\n",
            "0    0.49  0.29  0.48  0.5  0.56  0.24  0.35\n",
            "1    0.07  0.40  0.48  0.5  0.54  0.35  0.44\n",
            "2    0.56  0.40  0.48  0.5  0.49  0.37  0.46\n",
            "3    0.59  0.49  0.48  0.5  0.52  0.45  0.36\n",
            "4    0.23  0.32  0.48  0.5  0.55  0.25  0.35\n",
            "..    ...   ...   ...  ...   ...   ...   ...\n",
            "331  0.74  0.56  0.48  0.5  0.47  0.68  0.30\n",
            "332  0.71  0.57  0.48  0.5  0.48  0.35  0.32\n",
            "333  0.61  0.60  0.48  0.5  0.44  0.39  0.38\n",
            "334  0.59  0.61  0.48  0.5  0.42  0.42  0.37\n",
            "335  0.74  0.74  0.48  0.5  0.31  0.53  0.52\n",
            "\n",
            "[336 rows x 7 columns] [0 0 0 0 0 0 0 0 0 0 0 0 0 0 0 0 0 0 0 0 0 0 0 0 0 0 0 0 0 0 0 0 0 0 0 0 0\n",
            " 0 0 0 0 0 0 0 0 0 0 0 0 0 0 0 0 0 0 0 0 0 0 0 0 0 0 0 0 0 0 0 0 0 0 0 0 0\n",
            " 0 0 0 0 0 0 0 0 0 0 0 0 0 0 0 0 0 0 0 0 0 0 0 0 0 0 0 0 0 0 0 0 0 0 0 0 0\n",
            " 0 0 0 0 0 0 0 0 0 0 0 0 0 0 0 0 0 0 0 0 0 0 0 0 0 0 0 0 0 0 0 0 1 1 1 1 1\n",
            " 1 1 1 1 1 1 1 1 1 1 1 1 1 1 1 1 1 1 1 1 1 1 1 1 1 1 1 1 1 1 1 1 1 1 1 1 1\n",
            " 1 1 1 1 1 1 1 1 1 1 1 1 1 1 1 1 1 1 1 1 1 1 1 1 1 1 1 1 1 1 1 1 1 1 1 3 3\n",
            " 2 2 4 4 4 4 4 4 4 4 4 4 4 4 4 4 4 4 4 4 4 4 4 4 4 4 4 4 4 4 4 4 4 4 4 4 4\n",
            " 5 5 5 5 5 5 5 5 5 5 5 5 5 5 5 5 5 5 5 5 6 6 6 6 6 7 7 7 7 7 7 7 7 7 7 7 7\n",
            " 7 7 7 7 7 7 7 7 7 7 7 7 7 7 7 7 7 7 7 7 7 7 7 7 7 7 7 7 7 7 7 7 7 7 7 7 7\n",
            " 7 7 7] ['cp', 'im', 'imS', 'imL', 'imU', 'omL', 'om', 'pp']\n",
            "valores de xtrain y y :        mcg   gvh   lip  chg   aac  alm1  alm2\n",
            "293  0.63  1.00  0.48  0.5  0.35  0.51  0.49\n",
            "45   0.17  0.38  0.48  0.5  0.45  0.42  0.50\n",
            "200  0.58  0.55  0.48  0.5  0.57  0.70  0.74\n",
            "210  0.69  0.39  0.48  0.5  0.57  0.76  0.79\n",
            "224  0.72  0.42  0.48  0.5  0.65  0.77  0.79\n",
            "..    ...   ...   ...  ...   ...   ...   ...\n",
            "323  0.76  0.73  0.48  0.5  0.44  0.39  0.39\n",
            "192  0.41  0.51  0.48  0.5  0.53  0.75  0.78\n",
            "117  0.51  0.49  0.48  0.5  0.53  0.14  0.26\n",
            "47   0.43  0.40  0.48  0.5  0.39  0.28  0.39\n",
            "172  0.33  0.45  0.48  0.5  0.45  0.88  0.89\n",
            "\n",
            "[235 rows x 7 columns] [7 0 1 1 4 1 4 1 0 0 0 4 4 0 7 7 0 4 0 0 0 0 1 7 4 0 1 0 1 1 0 1 1 7 1 0 4\n",
            " 1 1 1 0 1 0 4 0 1 4 0 1 0 0 1 6 7 1 5 0 7 0 4 7 0 4 1 1 0 0 0 4 1 0 0 0 1\n",
            " 0 0 1 1 4 1 7 0 7 0 0 4 0 7 0 0 0 0 1 1 7 7 3 0 7 7 1 7 0 0 0 0 0 4 0 0 4\n",
            " 7 0 0 0 1 0 1 5 7 5 7 0 2 6 0 4 5 0 1 0 4 1 0 0 0 4 7 1 1 4 0 1 6 0 5 0 5\n",
            " 1 0 1 0 0 0 7 0 7 1 0 0 1 4 1 1 1 0 7 7 5 1 0 0 7 7 0 0 5 0 0 4 7 0 0 5 7\n",
            " 0 0 7 0 0 1 1 1 4 1 0 0 0 1 7 7 7 1 7 7 1 0 1 4 0 5 0 0 1 7 1 7 0 1 7 0 0\n",
            " 0 7 4 5 1 0 1 4 7 1 0 0 1]\n",
            "Fitting 5 folds for each of 1 candidates, totalling 5 fits\n",
            "[CV] END .................................................... total time=   0.0s\n",
            "[CV] END .................................................... total time=   0.0s\n",
            "[CV] END .................................................... total time=   0.0s\n",
            "[CV] END .................................................... total time=   0.0s\n",
            "[CV] END .................................................... total time=   0.0s\n",
            "              precision    recall  f1-score   support\n",
            "\n",
            "          cp       0.88      0.96      0.92        48\n",
            "          im       0.70      0.89      0.78        18\n",
            "         imS       0.00      0.00      0.00         1\n",
            "         imL       0.00      0.00      0.00         1\n",
            "         imU       0.71      0.56      0.63         9\n",
            "         omL       0.78      0.78      0.78         9\n",
            "          om       1.00      0.50      0.67         2\n",
            "          pp       0.78      0.54      0.64        13\n",
            "\n",
            "    accuracy                           0.81       101\n",
            "   macro avg       0.61      0.53      0.55       101\n",
            "weighted avg       0.80      0.81      0.80       101\n",
            "\n"
          ]
        }
      ],
      "source": [
        "# TODO: árbol de decisión\n",
        "lab = preprocessing.LabelEncoder()\n",
        "y_transformed = lab.fit_transform(y)\n",
        "dt_classifier = DecisionTreeClassifier(criterion=\"gini\")\n",
        "classify(X, y_transformed, class_names, dt_classifier)\n"
      ]
    },
    {
      "cell_type": "code",
      "execution_count": 29,
      "metadata": {
        "colab": {
          "base_uri": "https://localhost:8080/"
        },
        "id": "47F3PsjvYwfs",
        "outputId": "7997f402-4836-4933-e94a-518694623ea9"
      },
      "outputs": [
        {
          "name": "stdout",
          "output_type": "stream",
          "text": [
            "estos son los valores que entran : x,y,class_names,stimador        mcg   gvh   lip  chg   aac  alm1  alm2\n",
            "0    0.49  0.29  0.48  0.5  0.56  0.24  0.35\n",
            "1    0.07  0.40  0.48  0.5  0.54  0.35  0.44\n",
            "2    0.56  0.40  0.48  0.5  0.49  0.37  0.46\n",
            "3    0.59  0.49  0.48  0.5  0.52  0.45  0.36\n",
            "4    0.23  0.32  0.48  0.5  0.55  0.25  0.35\n",
            "..    ...   ...   ...  ...   ...   ...   ...\n",
            "331  0.74  0.56  0.48  0.5  0.47  0.68  0.30\n",
            "332  0.71  0.57  0.48  0.5  0.48  0.35  0.32\n",
            "333  0.61  0.60  0.48  0.5  0.44  0.39  0.38\n",
            "334  0.59  0.61  0.48  0.5  0.42  0.42  0.37\n",
            "335  0.74  0.74  0.48  0.5  0.31  0.53  0.52\n",
            "\n",
            "[336 rows x 7 columns] [0 0 0 0 0 0 0 0 0 0 0 0 0 0 0 0 0 0 0 0 0 0 0 0 0 0 0 0 0 0 0 0 0 0 0 0 0\n",
            " 0 0 0 0 0 0 0 0 0 0 0 0 0 0 0 0 0 0 0 0 0 0 0 0 0 0 0 0 0 0 0 0 0 0 0 0 0\n",
            " 0 0 0 0 0 0 0 0 0 0 0 0 0 0 0 0 0 0 0 0 0 0 0 0 0 0 0 0 0 0 0 0 0 0 0 0 0\n",
            " 0 0 0 0 0 0 0 0 0 0 0 0 0 0 0 0 0 0 0 0 0 0 0 0 0 0 0 0 0 0 0 0 1 1 1 1 1\n",
            " 1 1 1 1 1 1 1 1 1 1 1 1 1 1 1 1 1 1 1 1 1 1 1 1 1 1 1 1 1 1 1 1 1 1 1 1 1\n",
            " 1 1 1 1 1 1 1 1 1 1 1 1 1 1 1 1 1 1 1 1 1 1 1 1 1 1 1 1 1 1 1 1 1 1 1 3 3\n",
            " 2 2 4 4 4 4 4 4 4 4 4 4 4 4 4 4 4 4 4 4 4 4 4 4 4 4 4 4 4 4 4 4 4 4 4 4 4\n",
            " 5 5 5 5 5 5 5 5 5 5 5 5 5 5 5 5 5 5 5 5 6 6 6 6 6 7 7 7 7 7 7 7 7 7 7 7 7\n",
            " 7 7 7 7 7 7 7 7 7 7 7 7 7 7 7 7 7 7 7 7 7 7 7 7 7 7 7 7 7 7 7 7 7 7 7 7 7\n",
            " 7 7 7] ['cp', 'im', 'imS', 'imL', 'imU', 'omL', 'om', 'pp']\n",
            "valores de xtrain y y :        mcg   gvh   lip  chg   aac  alm1  alm2\n",
            "293  0.63  1.00  0.48  0.5  0.35  0.51  0.49\n",
            "45   0.17  0.38  0.48  0.5  0.45  0.42  0.50\n",
            "200  0.58  0.55  0.48  0.5  0.57  0.70  0.74\n",
            "210  0.69  0.39  0.48  0.5  0.57  0.76  0.79\n",
            "224  0.72  0.42  0.48  0.5  0.65  0.77  0.79\n",
            "..    ...   ...   ...  ...   ...   ...   ...\n",
            "323  0.76  0.73  0.48  0.5  0.44  0.39  0.39\n",
            "192  0.41  0.51  0.48  0.5  0.53  0.75  0.78\n",
            "117  0.51  0.49  0.48  0.5  0.53  0.14  0.26\n",
            "47   0.43  0.40  0.48  0.5  0.39  0.28  0.39\n",
            "172  0.33  0.45  0.48  0.5  0.45  0.88  0.89\n",
            "\n",
            "[235 rows x 7 columns] [7 0 1 1 4 1 4 1 0 0 0 4 4 0 7 7 0 4 0 0 0 0 1 7 4 0 1 0 1 1 0 1 1 7 1 0 4\n",
            " 1 1 1 0 1 0 4 0 1 4 0 1 0 0 1 6 7 1 5 0 7 0 4 7 0 4 1 1 0 0 0 4 1 0 0 0 1\n",
            " 0 0 1 1 4 1 7 0 7 0 0 4 0 7 0 0 0 0 1 1 7 7 3 0 7 7 1 7 0 0 0 0 0 4 0 0 4\n",
            " 7 0 0 0 1 0 1 5 7 5 7 0 2 6 0 4 5 0 1 0 4 1 0 0 0 4 7 1 1 4 0 1 6 0 5 0 5\n",
            " 1 0 1 0 0 0 7 0 7 1 0 0 1 4 1 1 1 0 7 7 5 1 0 0 7 7 0 0 5 0 0 4 7 0 0 5 7\n",
            " 0 0 7 0 0 1 1 1 4 1 0 0 0 1 7 7 7 1 7 7 1 0 1 4 0 5 0 0 1 7 1 7 0 1 7 0 0\n",
            " 0 7 4 5 1 0 1 4 7 1 0 0 1]\n",
            "Fitting 5 folds for each of 1 candidates, totalling 5 fits\n",
            "[CV] END .................................................... total time=   0.0s\n",
            "[CV] END .................................................... total time=   0.0s\n",
            "[CV] END .................................................... total time=   0.0s\n",
            "[CV] END .................................................... total time=   0.0s\n",
            "[CV] END .................................................... total time=   0.0s\n",
            "              precision    recall  f1-score   support\n",
            "\n",
            "          cp       0.92      1.00      0.96        48\n",
            "          im       0.73      0.89      0.80        18\n",
            "         imS       0.00      0.00      0.00         1\n",
            "         imL       0.00      0.00      0.00         1\n",
            "         imU       0.86      0.67      0.75         9\n",
            "         omL       1.00      0.67      0.80         9\n",
            "          om       1.00      1.00      1.00         2\n",
            "          pp       0.83      0.77      0.80        13\n",
            "\n",
            "    accuracy                           0.87       101\n",
            "   macro avg       0.67      0.62      0.64       101\n",
            "weighted avg       0.86      0.87      0.86       101\n",
            "\n"
          ]
        }
      ],
      "source": [
        "# TODO: SVM\n",
        "lab = preprocessing.LabelEncoder()\n",
        "y_transformed = lab.fit_transform(y)\n",
        "svm_classifier = SVC()\n",
        "classify(X, y_transformed, class_names, svm_classifier)\n"
      ]
    }
  ],
  "metadata": {
    "colab": {
      "provenance": []
    },
    "kernelspec": {
      "display_name": "Python 3.10.4 64-bit ('data-mining')",
      "language": "python",
      "name": "python3"
    },
    "language_info": {
      "codemirror_mode": {
        "name": "ipython",
        "version": 3
      },
      "file_extension": ".py",
      "mimetype": "text/x-python",
      "name": "python",
      "nbconvert_exporter": "python",
      "pygments_lexer": "ipython3",
      "version": "3.10.4"
    },
    "orig_nbformat": 4,
    "vscode": {
      "interpreter": {
        "hash": "0fd559c25dbbe343222a8ac4e264da6e094b914923e1f249609a64941e80491c"
      }
    }
  },
  "nbformat": 4,
  "nbformat_minor": 0
}
